{
 "cells": [
  {
   "cell_type": "markdown",
   "id": "b797748a-428a-4d46-b150-ccb58d955c3a",
   "metadata": {},
   "source": [
    "## Data Science Tools and Ecosystem"
   ]
  },
  {
   "cell_type": "markdown",
   "id": "7df053de-ca93-484a-bafa-049feab34fee",
   "metadata": {},
   "source": [
    "In this notebook, Data Science Tools and Ecosystem are summarized."
   ]
  },
  {
   "cell_type": "markdown",
   "id": "46eb1950-c82c-49a5-8502-d6a3b9621cb8",
   "metadata": {},
   "source": [
    "**Objectives:**\n",
    "- List popular languages for Data Science\n",
    "- List commonly used libraries used by Data Scientists\n",
    "- List three data science tools\n",
    "- Examples of evaluating arithmetic expressions in Python"
   ]
  },
  {
   "cell_type": "markdown",
   "id": "5af773f3-2a37-4c7f-83ef-2fd343014d8a",
   "metadata": {},
   "source": [
    "## Author\n",
    "Jinxuan Zhu"
   ]
  },
  {
   "cell_type": "markdown",
   "id": "601c823e-3a10-4e34-b869-4eff1d1d568b",
   "metadata": {},
   "source": [
    "Some of the popular languages that Data Scientists use are:"
   ]
  },
  {
   "cell_type": "markdown",
   "id": "692d1501-4321-405e-bb69-ffbecb4c6511",
   "metadata": {},
   "source": [
    "1. Python\n",
    "2. R\n",
    "3. SQL"
   ]
  },
  {
   "cell_type": "markdown",
   "id": "05e64b37-2f8f-4f58-b976-11dd7a144312",
   "metadata": {},
   "source": [
    "Some of the commonly used libraries used by Data Scientists include:"
   ]
  },
  {
   "cell_type": "markdown",
   "id": "47df1f05-bef7-4290-b0e4-b22ee7667a29",
   "metadata": {},
   "source": [
    "1. Pandas\n",
    "2. Matplotlib\n",
    "3. Scikit-learn\n",
    "4. TensorFlow"
   ]
  },
  {
   "cell_type": "markdown",
   "id": "c79a1efa-c7c7-45a5-ab69-752f2be249e5",
   "metadata": {},
   "source": [
    "| Data Science Tools |\n",
    "| -------- |\n",
    "| Jupyter Notebook |\n",
    "| R Studio|\n",
    "| Anaconda |"
   ]
  },
  {
   "cell_type": "markdown",
   "id": "3b8b7f2e-9b7a-440e-b2d4-5c2d51761fe0",
   "metadata": {},
   "source": [
    "### Below are a few examples of evaluating arithmetic expressions in Python"
   ]
  },
  {
   "cell_type": "code",
   "execution_count": 10,
   "id": "6fae1400-65f8-44e0-8584-b2234bc69e20",
   "metadata": {},
   "outputs": [
    {
     "data": {
      "text/plain": [
       "17"
      ]
     },
     "execution_count": 10,
     "metadata": {},
     "output_type": "execute_result"
    }
   ],
   "source": [
    "(3*4)+5 #This a simple arithmetic expression to mutiply then add integers"
   ]
  },
  {
   "cell_type": "code",
   "execution_count": 14,
   "id": "d4677dc9-04de-4f80-9e3f-615ef26cf5b1",
   "metadata": {},
   "outputs": [
    {
     "name": "stdout",
     "output_type": "stream",
     "text": [
      "3 hours\n"
     ]
    }
   ],
   "source": [
    "minutes = 200\n",
    "hours = minutes//60 #This will convert 200 minutes to hours by diving by 60\n",
    "print(hours, \"hours\")"
   ]
  },
  {
   "cell_type": "code",
   "execution_count": null,
   "id": "a0e91f21-4922-44ba-b123-e4a5befe0560",
   "metadata": {},
   "outputs": [],
   "source": []
  }
 ],
 "metadata": {
  "kernelspec": {
   "display_name": "Python 3 (ipykernel)",
   "language": "python",
   "name": "python3"
  },
  "language_info": {
   "codemirror_mode": {
    "name": "ipython",
    "version": 3
   },
   "file_extension": ".py",
   "mimetype": "text/x-python",
   "name": "python",
   "nbconvert_exporter": "python",
   "pygments_lexer": "ipython3",
   "version": "3.12.4"
  }
 },
 "nbformat": 4,
 "nbformat_minor": 5
}
